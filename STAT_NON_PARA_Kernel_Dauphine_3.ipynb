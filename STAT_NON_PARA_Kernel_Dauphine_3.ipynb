{
  "cells": [
    {
      "cell_type": "markdown",
      "metadata": {
        "id": "view-in-github",
        "colab_type": "text"
      },
      "source": [
        "<a href=\"https://colab.research.google.com/github/jorguzb/DataScienceScript/blob/master/STAT_NON_PARA_Kernel_Dauphine_3.ipynb\" target=\"_parent\"><img src=\"https://colab.research.google.com/assets/colab-badge.svg\" alt=\"Open In Colab\"/></a>"
      ]
    },
    {
      "cell_type": "code",
      "execution_count": null,
      "metadata": {
        "id": "WtLSo-pjUx3N"
      },
      "outputs": [],
      "source": [
        "from IPython.core.interactiveshell import InteractiveShell\n",
        "InteractiveShell.ast_node_interactivity = \"all\"\n",
        "from math import *\n",
        "import numpy as np\n",
        "import scipy.stats as st\n",
        "import matplotlib.pyplot as plt\n",
        "# Deux fonctions (au moins) permettent de faire de l'estimation à noyau sous Python\n",
        "# La première KDEUnivarite\n",
        "from statsmodels.nonparametric.kde import KDEUnivariate \n",
        "from statsmodels.nonparametric.kernel_regression import KernelReg # NW et Polynome locaux p=1\n",
        "# La seconde KernelDensity\n",
        "from sklearn.neighbors import KernelDensity\n",
        "from sklearn.model_selection import GridSearchCV\n",
        "#from sklearn_extensions.kernel_regression import KernelRegression\n",
        "\n",
        "# PyQt autre package polynome locaux de degré p quelconque\n",
        "# Dans la suite on regarde ces deux fonctions."
      ]
    },
    {
      "cell_type": "code",
      "execution_count": null,
      "metadata": {
        "id": "rcY4YPnKUx3R"
      },
      "outputs": [],
      "source": [
        "n = 1000\n",
        "sg = sqrt(1)\n",
        "#X = np.random.uniform(0, 2*np.pi, n)# nombre égal de points sur tout l'intervalle de définition\n",
        "X = 2*np.pi*np.random.beta(1, 3, n) # accumulations de points en certains endroits de l'intervalle de définition\n",
        "eps = np.random.normal(0,sg, n) # loi normale mais on pourra mettre une autre loi?\n",
        "def r(x): return(3/(x+1)+5+4*np.cos(x))\n",
        "def dr(x): return(-3/(x+1)**2-4*np.sin(x)) # dérivée de r\n",
        "# def r(x): return(np.cos(x))\n",
        "# def dr(x): return(-np.sin(x))\n",
        "Y = r(X)+eps"
      ]
    },
    {
      "cell_type": "code",
      "execution_count": null,
      "metadata": {
        "id": "hQPqoxm7Ux3S",
        "outputId": "52d07d29-4d56-4afe-c906-da69b6f1b9b7"
      },
      "outputs": [
        {
          "data": {
            "text/plain": [
              "[<matplotlib.lines.Line2D at 0x1a268f84a8>]"
            ]
          },
          "execution_count": 26,
          "metadata": {},
          "output_type": "execute_result"
        },
        {
          "data": {
            "text/plain": [
              "[<matplotlib.lines.Line2D at 0x1a2685cc18>]"
            ]
          },
          "execution_count": 26,
          "metadata": {},
          "output_type": "execute_result"
        },
        {
          "data": {
            "image/png": "[encoded data removed]",
            "text/plain": [
              "<Figure size 432x288 with 1 Axes>"
            ]
          },
          "metadata": {
            "needs_background": "light"
          },
          "output_type": "display_data"
        }
      ],
      "source": [
        "grid = np.linspace(0, 2*np.pi, 100)\n",
        "\n",
        "plt.plot(X, Y, 'r.')\n",
        "plt.plot(grid, r(grid), 'b--')#fonction de regression à estimer\n"
      ]
    },
    {
      "cell_type": "markdown",
      "metadata": {
        "id": "22ww5XZRUx3T"
      },
      "source": [
        "Faire varier, sg, n, et la loi de $X$, à quoi s'attend-on?"
      ]
    },
    {
      "cell_type": "code",
      "execution_count": null,
      "metadata": {
        "id": "-efronejUx3U"
      },
      "outputs": [],
      "source": [
        "kr0 =KernelReg(Y, X, var_type = 'c' , reg_type = 'll', bw = 0.03*np.ones((1,)))#Poly locaux\n",
        "kr1 =KernelReg(Y, X, var_type = 'c' , reg_type = 'lc', bw = 3*np.ones((1,)))#NW"
      ]
    },
    {
      "cell_type": "code",
      "execution_count": null,
      "metadata": {
        "id": "hyVu30i3Ux3V",
        "outputId": "1a7f6330-3eae-46e7-a590-fc4aad97ee01"
      },
      "outputs": [
        {
          "name": "stdout",
          "output_type": "stream",
          "text": [
            "Help on class KernelReg in module statsmodels.nonparametric.kernel_regression:\n",
            "\n",
            "class KernelReg(statsmodels.nonparametric._kernel_base.GenericKDE)\n",
            " |  KernelReg(endog, exog, var_type, reg_type='ll', bw='cv_ls', defaults=<statsmodels.nonparametric._kernel_base.EstimatorSettings object at 0x1a24b62908>)\n",
            " |  \n",
            " |  Nonparametric kernel regression class.\n",
            " |  \n",
            " |  Calculates the conditional mean ``E[y|X]`` where ``y = g(X) + e``.\n",
            " |  Note that the \"local constant\" type of regression provided here is also\n",
            " |  known as Nadaraya-Watson kernel regression; \"local linear\" is an extension\n",
            " |  of that which suffers less from bias issues at the edge of the support.\n",
            " |  \n",
            " |  Parameters\n",
            " |  ----------\n",
            " |  endog: list with one element which is array_like\n",
            " |      This is the dependent variable.\n",
            " |  exog: list\n",
            " |      The training data for the independent variable(s)\n",
            " |      Each element in the list is a separate variable\n",
            " |  var_type: str\n",
            " |      The type of the variables, one character per variable:\n",
            " |  \n",
            " |          - c: continuous\n",
            " |          - u: unordered (discrete)\n",
            " |          - o: ordered (discrete)\n",
            " |  \n",
            " |  reg_type: {'lc', 'll'}, optional\n",
            " |      Type of regression estimator. 'lc' means local constant and\n",
            " |      'll' local Linear estimator.  Default is 'll'\n",
            " |  bw: str or array_like, optional\n",
            " |      Either a user-specified bandwidth or the method for bandwidth\n",
            " |      selection.  If a string, valid values are 'cv_ls' (least-squares\n",
            " |      cross-validation) and 'aic' (AIC Hurvich bandwidth estimation).\n",
            " |      Default is 'cv_ls'.\n",
            " |  defaults: EstimatorSettings instance, optional\n",
            " |      The default values for the efficient bandwidth estimation.\n",
            " |  \n",
            " |  Attributes\n",
            " |  ---------\n",
            " |  bw: array_like\n",
            " |      The bandwidth parameters.\n",
            " |  \n",
            " |  Method resolution order:\n",
            " |      KernelReg\n",
            " |      statsmodels.nonparametric._kernel_base.GenericKDE\n",
            " |      builtins.object\n",
            " |  \n",
            " |  Methods defined here:\n",
            " |  \n",
            " |  __init__(self, endog, exog, var_type, reg_type='ll', bw='cv_ls', defaults=<statsmodels.nonparametric._kernel_base.EstimatorSettings object at 0x1a24b62908>)\n",
            " |      Initialize self.  See help(type(self)) for accurate signature.\n",
            " |  \n",
            " |  __repr__(self)\n",
            " |      Provide something sane to print.\n",
            " |  \n",
            " |  aic_hurvich(self, bw, func=None)\n",
            " |      Computes the AIC Hurvich criteria for the estimation of the bandwidth.\n",
            " |      \n",
            " |      Parameters\n",
            " |      ----------\n",
            " |      bw : str or array_like\n",
            " |          See the ``bw`` parameter of `KernelReg` for details.\n",
            " |      \n",
            " |      Returns\n",
            " |      -------\n",
            " |      aic : ndarray\n",
            " |          The AIC Hurvich criteria, one element for each variable.\n",
            " |      func : None\n",
            " |          Unused here, needed in signature because it's used in `cv_loo`.\n",
            " |      \n",
            " |      References\n",
            " |      ----------\n",
            " |      See ch.2 in [1] and p.35 in [2].\n",
            " |  \n",
            " |  cv_loo(self, bw, func)\n",
            " |      The cross-validation function with leave-one-out estimator.\n",
            " |      \n",
            " |      Parameters\n",
            " |      ----------\n",
            " |      bw: array_like\n",
            " |          Vector of bandwidth values.\n",
            " |      func: callable function\n",
            " |          Returns the estimator of g(x).  Can be either ``_est_loc_constant``\n",
            " |          (local constant) or ``_est_loc_linear`` (local_linear).\n",
            " |      \n",
            " |      Returns\n",
            " |      -------\n",
            " |      L: float\n",
            " |          The value of the CV function.\n",
            " |      \n",
            " |      Notes\n",
            " |      -----\n",
            " |      Calculates the cross-validation least-squares function. This function\n",
            " |      is minimized by compute_bw to calculate the optimal value of `bw`.\n",
            " |      \n",
            " |      For details see p.35 in [2]\n",
            " |      \n",
            " |      .. math:: CV(h)=n^{-1}\\sum_{i=1}^{n}(Y_{i}-g_{-i}(X_{i}))^{2}\n",
            " |      \n",
            " |      where :math:`g_{-i}(X_{i})` is the leave-one-out estimator of g(X)\n",
            " |      and :math:`h` is the vector of bandwidths\n",
            " |  \n",
            " |  fit(self, data_predict=None)\n",
            " |      Returns the mean and marginal effects at the `data_predict` points.\n",
            " |      \n",
            " |      Parameters\n",
            " |      ----------\n",
            " |      data_predict : array_like, optional\n",
            " |          Points at which to return the mean and marginal effects.  If not\n",
            " |          given, ``data_predict == exog``.\n",
            " |      \n",
            " |      Returns\n",
            " |      -------\n",
            " |      mean : ndarray\n",
            " |          The regression result for the mean (i.e. the actual curve).\n",
            " |      mfx : ndarray\n",
            " |          The marginal effects, i.e. the partial derivatives of the mean.\n",
            " |  \n",
            " |  r_squared(self)\n",
            " |      Returns the R-Squared for the nonparametric regression.\n",
            " |      \n",
            " |      Notes\n",
            " |      -----\n",
            " |      For more details see p.45 in [2]\n",
            " |      The R-Squared is calculated by:\n",
            " |      \n",
            " |      .. math:: R^{2}=\\frac{\\left[\\sum_{i=1}^{n}\n",
            " |          (Y_{i}-\\bar{y})(\\hat{Y_{i}}-\\bar{y}\\right]^{2}}{\\sum_{i=1}^{n}\n",
            " |          (Y_{i}-\\bar{y})^{2}\\sum_{i=1}^{n}(\\hat{Y_{i}}-\\bar{y})^{2}},\n",
            " |      \n",
            " |      where :math:`\\hat{Y_{i}}` is the mean calculated in `fit` at the exog\n",
            " |      points.\n",
            " |  \n",
            " |  sig_test(self, var_pos, nboot=50, nested_res=25, pivot=False)\n",
            " |      Significance test for the variables in the regression.\n",
            " |      \n",
            " |      Parameters\n",
            " |      ----------\n",
            " |      var_pos: sequence\n",
            " |          The position of the variable in exog to be tested.\n",
            " |      \n",
            " |      Returns\n",
            " |      -------\n",
            " |      sig: str\n",
            " |          The level of significance:\n",
            " |      \n",
            " |              - `*` : at 90% confidence level\n",
            " |              - `**` : at 95% confidence level\n",
            " |              - `***` : at 99* confidence level\n",
            " |              - \"Not Significant\" : if not significant\n",
            " |  \n",
            " |  ----------------------------------------------------------------------\n",
            " |  Methods inherited from statsmodels.nonparametric._kernel_base.GenericKDE:\n",
            " |  \n",
            " |  loo_likelihood(self)\n",
            " |  \n",
            " |  ----------------------------------------------------------------------\n",
            " |  Data descriptors inherited from statsmodels.nonparametric._kernel_base.GenericKDE:\n",
            " |  \n",
            " |  __dict__\n",
            " |      dictionary for instance variables (if defined)\n",
            " |  \n",
            " |  __weakref__\n",
            " |      list of weak references to the object (if defined)\n",
            "\n"
          ]
        }
      ],
      "source": [
        "help(KernelReg)"
      ]
    },
    {
      "cell_type": "markdown",
      "metadata": {
        "id": "YFJ2wstvUx3V"
      },
      "source": [
        "Une première fonction qui code \"Nadaraya-Watson\" (reg_type = 'lc') et le polynome local d'ordre 1 (regtype = 'll'). "
      ]
    },
    {
      "cell_type": "code",
      "execution_count": null,
      "metadata": {
        "id": "d3AOtR4KUx3W",
        "outputId": "7c4aa323-78e7-408e-be87-d37657206a03"
      },
      "outputs": [
        {
          "data": {
            "text/plain": [
              "[<matplotlib.lines.Line2D at 0x1a26e40630>]"
            ]
          },
          "execution_count": 37,
          "metadata": {},
          "output_type": "execute_result"
        },
        {
          "data": {
            "text/plain": [
              "[<matplotlib.lines.Line2D at 0x1a26d80400>]"
            ]
          },
          "execution_count": 37,
          "metadata": {},
          "output_type": "execute_result"
        },
        {
          "data": {
            "text/plain": [
              "[<matplotlib.lines.Line2D at 0x1a26e40a20>]"
            ]
          },
          "execution_count": 37,
          "metadata": {},
          "output_type": "execute_result"
        },
        {
          "data": {
            "image/png": "[encoded data removed]",
            "text/plain": [
              "<Figure size 432x288 with 1 Axes>"
            ]
          },
          "metadata": {
            "needs_background": "light"
          },
          "output_type": "display_data"
        }
      ],
      "source": [
        "grid = np.linspace(0, 2*np.pi, 100)\n",
        "r_est0, dr_est0 = kr0.fit(grid)#objet de deux dimension (1 ere, fonction regression cherché, 2eme, la dérivé)\n",
        "r_est1, dr_est1 = kr1.fit(grid)#objet de deux dimension (1 ere, fonction regression cherché, 2eme, à voir mais pas la dérivé)\n",
        "#r_est.__class__\n",
        "plt.plot(X, Y, 'r.')\n",
        "plt.plot(grid, r(grid), 'b--')#vrai fonction \n",
        "#plt.plot(grid, r_est0, 'g-')#estimé poly locaux odre 1\n",
        "plt.plot(grid, r_est1, 'c-')#NW"
      ]
    },
    {
      "cell_type": "markdown",
      "metadata": {
        "id": "YdANNrL-Ux3X"
      },
      "source": [
        "Quid de la dérivée?"
      ]
    },
    {
      "cell_type": "code",
      "execution_count": null,
      "metadata": {
        "id": "1sWOGr_hUx3X",
        "outputId": "8990d6f9-faa2-45c5-f67f-aa1a7ef8077f"
      },
      "outputs": [
        {
          "data": {
            "text/plain": [
              "[<matplotlib.lines.Line2D at 0x1a262acbe0>]"
            ]
          },
          "execution_count": 12,
          "metadata": {},
          "output_type": "execute_result"
        },
        {
          "data": {
            "text/plain": [
              "[<matplotlib.lines.Line2D at 0x1a2628a8d0>]"
            ]
          },
          "execution_count": 12,
          "metadata": {},
          "output_type": "execute_result"
        },
        {
          "data": {
            "text/plain": [
              "[<matplotlib.lines.Line2D at 0x1a262acfd0>]"
            ]
          },
          "execution_count": 12,
          "metadata": {},
          "output_type": "execute_result"
        },
        {
          "data": {
            "text/plain": [
              "[<matplotlib.lines.Line2D at 0x1a262b6208>]"
            ]
          },
          "execution_count": 12,
          "metadata": {},
          "output_type": "execute_result"
        },
        {
          "data": {
            "image/png": "[encoded data removed]",
            "text/plain": [
              "<Figure size 432x288 with 1 Axes>"
            ]
          },
          "metadata": {
            "needs_background": "light"
          },
          "output_type": "display_data"
        }
      ],
      "source": [
        "plt.plot(X, Y, 'r.')#nouage point\n",
        "plt.plot(grid, dr(grid), 'b--')\n",
        "plt.plot(grid, dr_est0, 'g-')\n",
        "plt.plot(grid, dr_est1, 'c_')"
      ]
    },
    {
      "cell_type": "code",
      "execution_count": null,
      "metadata": {
        "id": "bbGkyHs2Ux3Y"
      },
      "outputs": [],
      "source": [
        ""
      ]
    }
  ],
  "metadata": {
    "kernelspec": {
      "display_name": "Python 3",
      "language": "python",
      "name": "python3"
    },
    "language_info": {
      "codemirror_mode": {
        "name": "ipython",
        "version": 3
      },
      "file_extension": ".py",
      "mimetype": "text/x-python",
      "name": "python",
      "nbconvert_exporter": "python",
      "pygments_lexer": "ipython3",
      "version": "3.8.3"
    },
    "colab": {
      "name": "STAT_NON_PARA_Kernel_Dauphine_3.ipynb",
      "provenance": [],
      "include_colab_link": true
    }
  },
  "nbformat": 4,
  "nbformat_minor": 0
}