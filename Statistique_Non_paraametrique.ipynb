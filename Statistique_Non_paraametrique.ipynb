{
 "cells": [
  {
   "cell_type": "code",
   "execution_count": 144,
   "metadata": {},
   "outputs": [],
   "source": [
    "import pandas as pd\n",
    "from IPython.core.interactiveshell import InteractiveShell\n",
    "InteractiveShell.ast_node_interactivity = \"all\"\n",
    "from math import *\n",
    "import numpy as np\n",
    "import scipy.stats as st\n",
    "import pylab \n",
    "import matplotlib.pyplot as plt\n",
    "# Deux fonctions (au moins) permettent de faire de l'estimation à noyau sous Python\n",
    "# La première KDEUnivarite\n",
    "from statsmodels.nonparametric.kde import KDEUnivariate \n",
    "from statsmodels.nonparametric.kernel_regression import KernelReg # NW et Polynome locaux p=0\n",
    "import statsmodels.nonparametric.bandwidths\n",
    "import statsmodels.api as sm\n",
    "# La seconde KernelDensity\n",
    "from sklearn.neighbors import KernelDensity\n",
    "from sklearn.model_selection import GridSearchCV\n",
    "#from sklearn_extensions.kernel_regression import KernelRegression\n",
    "import matplotlib.pyplot as plt\n",
    "import scipy as sp"
   ]
  },
  {
   "cell_type": "code",
   "execution_count": 85,
   "metadata": {},
   "outputs": [],
   "source": [
    "\n",
    "data1 = pd.read_csv(\"Data1.csv\")\n",
    "data2 = pd.read_csv(\"Data2.csv\")\n"
   ]
  },
  {
   "cell_type": "code",
   "execution_count": 192,
   "metadata": {},
   "outputs": [
    {
     "data": {
      "text/plain": [
       "array([1.       , 1.0010002, 1.0020004, ..., 5.9979996, 5.9989998,\n",
       "       6.       ])"
      ]
     },
     "execution_count": 192,
     "metadata": {},
     "output_type": "execute_result"
    },
    {
     "data": {
      "text/plain": [
       "(0.3549569762478264, 0.3546575787072304, 0.30140870711662643)"
      ]
     },
     "execution_count": 192,
     "metadata": {},
     "output_type": "execute_result"
    }
   ],
   "source": [
    "\n",
    "n = 5000\n",
    "grid = np.linspace(1,6,5000)\n",
    "grid\n",
    "X = data1['X']\n",
    "Y = data1['Y1']\n",
    "true_f = X\n",
    "h1 = statsmodels.nonparametric.bandwidths.bw_scott(X)\n",
    "h2 = statsmodels.nonparametric.bandwidths.bw_silverman(X)\n",
    "\n",
    "(1.06*np.sqrt(np.var(X))*n**(-1/5), h1, h2)"
   ]
  },
  {
   "cell_type": "code",
   "execution_count": 204,
   "metadata": {},
   "outputs": [
    {
     "data": {
      "text/plain": [
       "GridSearchCV(cv=2, estimator=KernelDensity(),\n",
       "             param_grid={'bandwidth': array([ 0.01      ,  0.01072267,  0.01149757,  0.01232847,  0.01321941,\n",
       "        0.01417474,  0.01519911,  0.01629751,  0.01747528,  0.01873817,\n",
       "        0.02009233,  0.02154435,  0.0231013 ,  0.02477076,  0.02656088,\n",
       "        0.02848036,  0.03053856,  0.03274549,  0.03511192,  0.03764936,\n",
       "        0.04037017,  0.04328761,  0.04641589,  0.04977024,  0.05336699,\n",
       "        0.05722...\n",
       "        0.93260335,  1.        ,  1.07226722,  1.149757  ,  1.23284674,\n",
       "        1.32194115,  1.41747416,  1.51991108,  1.62975083,  1.7475284 ,\n",
       "        1.87381742,  2.009233  ,  2.15443469,  2.3101297 ,  2.47707636,\n",
       "        2.65608778,  2.84803587,  3.05385551,  3.27454916,  3.51119173,\n",
       "        3.76493581,  4.03701726,  4.32876128,  4.64158883,  4.97702356,\n",
       "        5.33669923,  5.72236766,  6.13590727,  6.57933225,  7.05480231,\n",
       "        7.56463328,  8.11130831,  8.69749003,  9.32603347, 10.        ])})"
      ]
     },
     "execution_count": 204,
     "metadata": {},
     "output_type": "execute_result"
    },
    {
     "data": {
      "text/plain": [
       "0.01"
      ]
     },
     "execution_count": 204,
     "metadata": {},
     "output_type": "execute_result"
    }
   ],
   "source": [
    "\n",
    "bandwidths = 10 ** np.linspace(-2, 1, 100)\n",
    "GG = GridSearchCV(KernelDensity(kernel='gaussian'),\n",
    "                    {'bandwidth': bandwidths},\n",
    "                    cv= 2)\n",
    "#X.reshape(-1,1)\n",
    "GG.fit(X.to_numpy().reshape(-1,1))\n",
    "h_cv2 = GG.best_params_[\"bandwidth\"]\n",
    "h_cv2"
   ]
  },
  {
   "cell_type": "code",
   "execution_count": 134,
   "metadata": {},
   "outputs": [
    {
     "data": {
      "text/plain": [
       "<matplotlib.legend.Legend at 0x7f1b34805850>"
      ]
     },
     "execution_count": 134,
     "metadata": {},
     "output_type": "execute_result"
    },
    {
     "data": {
      "text/plain": [
       "Text(0.5, 0, 'X')"
      ]
     },
     "execution_count": 134,
     "metadata": {},
     "output_type": "execute_result"
    },
    {
     "data": {
      "text/plain": [
       "Text(0, 0.5, 'fonction densité')"
      ]
     },
     "execution_count": 134,
     "metadata": {},
     "output_type": "execute_result"
    },
    {
     "data": {
      "text/plain": [
       "Text(0.5, 1.0, 'Représentation de la densité')"
      ]
     },
     "execution_count": 134,
     "metadata": {},
     "output_type": "execute_result"
    },
    {
     "data": {
      "image/png": "[encoded data removed]",
      "text/plain": [
       "<Figure size 432x288 with 1 Axes>"
      ]
     },
     "metadata": {
      "needs_background": "light"
     },
     "output_type": "display_data"
    }
   ],
   "source": [
    "# Utilisation en densité\n",
    "def f_hat(grid , X, h, **kwargs):\n",
    "    \"\"\"Univariate Kernel Density Estimation with Statsmodels\"\"\" \n",
    "    # grid: grille de points où l'estimateur de $f$ sera évalué\n",
    "    # X: échantillon (X_1,..., X_n)\n",
    "    # h: choix de la taille de la fenêtre\n",
    "    # **kwargs: arguments optionels Par défaut le noyau gaussien est utilisé\n",
    "    kde = KDEUnivariate(X)\n",
    "    kde.fit(bw = h, **kwargs)\n",
    "    return kde.evaluate(grid)\n",
    "\n",
    "g1, = plt.plot(grid, f_hat(grid, X, h1))\n",
    "g2, = plt.plot(grid, f_hat(grid, X, h2))\n",
    "#g3, = plt.plot(grid, f_hat(grid, X, h_cv))\n",
    "#g4, = plt.plot(grid, f_hat(grid, X, h_cv1))\n",
    "g5, = plt.plot(grid, f_hat(grid, X, h_cv2))\n",
    "#g5, = plt.plot(grid, true_f)\n",
    "\n",
    "plt.legend([g1, g2, g5], ['h = Scott', 'h = Silverman','h = CV'],\n",
    "              loc = 'upper right' , title = 'Légende')\n",
    "plt.xlabel('X')\n",
    "plt.ylabel('fonction densité')\n",
    "plt.title('Représentation de la densité')\n"
   ]
  },
  {
   "cell_type": "code",
   "execution_count": 110,
   "metadata": {},
   "outputs": [
    {
     "data": {
      "text/plain": [
       "(array([0.225 , 0.0892, 0.0742, 0.0532, 0.05  , 0.053 , 0.0562, 0.0738,\n",
       "        0.0928, 0.2326]),\n",
       " array([1.        , 1.49999999, 1.99999997, 2.49999996, 2.99999994,\n",
       "        3.49999993, 3.99999991, 4.4999999 , 4.99999988, 5.49999986,\n",
       "        5.99999985]),\n",
       " <BarContainer object of 10 artists>)"
      ]
     },
     "execution_count": 110,
     "metadata": {},
     "output_type": "execute_result"
    },
    {
     "data": {
      "image/png": "[encoded data removed]",
      "text/plain": [
       "<Figure size 432x288 with 1 Axes>"
      ]
     },
     "metadata": {
      "needs_background": "light"
     },
     "output_type": "display_data"
    }
   ],
   "source": [
    "fig = plt.figure()\n",
    "ax = fig.add_subplot(111)\n",
    "ax.hist(true_f, weights=np.zeros_like(true_f) + 1. / true_f.size)"
   ]
  },
  {
   "cell_type": "code",
   "execution_count": 50,
   "metadata": {},
   "outputs": [
    {
     "data": {
      "text/plain": [
       "((array([1.38619827e-04, 3.36475437e-04, 5.36460838e-04, ...,\n",
       "         9.99463539e-01, 9.99663525e-01, 9.99861380e-01]),\n",
       "  array([1.        , 1.00000241, 1.00000245, ..., 5.99999668, 5.99999799,\n",
       "         5.99999985])),\n",
       " (6.288361029000745, 0.38330587012138917, 0.9868503047727722))"
      ]
     },
     "execution_count": 50,
     "metadata": {},
     "output_type": "execute_result"
    },
    {
     "data": {
      "image/png": "[encoded data removed]",
      "text/plain": [
       "<Figure size 432x288 with 1 Axes>"
      ]
     },
     "metadata": {
      "needs_background": "light"
     },
     "output_type": "display_data"
    }
   ],
   "source": [
    "st.probplot(X, dist=\"uniform\", plot=pylab)\n",
    "pylab.show()"
   ]
  },
  {
   "cell_type": "code",
   "execution_count": 101,
   "metadata": {},
   "outputs": [],
   "source": [
    "# estimateur de Naradaha Watson\n",
    "Kreg = KernelReg(Y, X, var_type = 'c' , reg_type = 'lc', bw = 'cv_ls')\n",
    "h_cv = Kreg.bw"
   ]
  },
  {
   "cell_type": "code",
   "execution_count": 102,
   "metadata": {},
   "outputs": [],
   "source": [
    "#estimateur poly locaux \n",
    "Kreg1 = KernelReg(Y, X, var_type = 'c' , reg_type = 'll', bw = 'cv_ls')\n",
    "h_cv1 = Kreg1.bw"
   ]
  },
  {
   "cell_type": "code",
   "execution_count": 203,
   "metadata": {},
   "outputs": [],
   "source": [
    "# Utilisation en densité\n",
    "def f_hat(grid , X, h, **kwargs):\n",
    "    \"\"\"Univariate Kernel Density Estimation with Statsmodels\"\"\" \n",
    "    # grid: grille de points où l'estimateur de $f$ sera évalué\n",
    "    # X: échantillon (X_1,..., X_n)\n",
    "    # h: choix de la taille de la fenêtre\n",
    "    # **kwargs: arguments optionels Par défaut le noyau gaussien est utilisé\n",
    "    kde = KDEUnivariate(X)\n",
    "    kde.fit(bw = h, **kwargs)\n",
    "    return kde.evaluate(grid)\n",
    "\n",
    "r_hcv = f_hat(grid, X, h_cv)\n",
    "r_hcv1 = f_hat(grid, X, h_cv1)"
   ]
  },
  {
   "cell_type": "code",
   "execution_count": 143,
   "metadata": {},
   "outputs": [
    {
     "data": {
      "text/plain": [
       "<matplotlib.legend.Legend at 0x7f1b34401790>"
      ]
     },
     "execution_count": 143,
     "metadata": {},
     "output_type": "execute_result"
    },
    {
     "name": "stderr",
     "output_type": "stream",
     "text": [
      "<ipython-input-143-83549c17fa47>:8: MatplotlibDeprecationWarning: Adding an axes using the same arguments as a previous axes currently reuses the earlier instance.  In a future version, a new instance will always be created and returned.  Meanwhile, this warning can be suppressed, and the future behavior ensured, by passing a unique label to each axes instance.\n",
      "  ax = fig.add_subplot(111)\n"
     ]
    },
    {
     "data": {
      "text/plain": [
       "(array([0.225 , 0.0892, 0.0742, 0.0532, 0.05  , 0.053 , 0.0562, 0.0738,\n",
       "        0.0928, 0.2326]),\n",
       " array([1.        , 1.49999999, 1.99999997, 2.49999996, 2.99999994,\n",
       "        3.49999993, 3.99999991, 4.4999999 , 4.99999988, 5.49999986,\n",
       "        5.99999985]),\n",
       " <BarContainer object of 10 artists>)"
      ]
     },
     "execution_count": 143,
     "metadata": {},
     "output_type": "execute_result"
    },
    {
     "data": {
      "text/plain": [
       "Text(0.5, 0, 'X')"
      ]
     },
     "execution_count": 143,
     "metadata": {},
     "output_type": "execute_result"
    },
    {
     "data": {
      "text/plain": [
       "Text(0, 0.5, 'fonction de régressioń')"
      ]
     },
     "execution_count": 143,
     "metadata": {},
     "output_type": "execute_result"
    },
    {
     "data": {
      "image/png": "[encoded data removed]",
      "text/plain": [
       "<Figure size 432x288 with 1 Axes>"
      ]
     },
     "metadata": {
      "needs_background": "light"
     },
     "output_type": "display_data"
    }
   ],
   "source": [
    "              \n",
    "fig = plt.figure()\n",
    "#g, =  plt.plot(X, 'c.')\n",
    "g3, = plt.plot(grid, r_hcv)\n",
    "g4, = plt.plot(grid, r_hcv1)\n",
    "\n",
    "plt.legend([g3, g4], ['h = CV NW', 'h = CV LL'],loc = 'upper right' , title = 'Légende')\n",
    "\n",
    "ax = fig.add_subplot(111)\n",
    "ax.hist(true_f, weights=np.zeros_like(true_f) + 1. / true_f.size)\n",
    "plt.xlabel('X')\n",
    "plt.ylabel('fonction de régressioń')"
   ]
  },
  {
   "cell_type": "code",
   "execution_count": 150,
   "metadata": {},
   "outputs": [
    {
     "data": {
      "text/plain": [
       "array([0.46779944, 0.47049677, 0.47316158, ..., 0.49261378, 0.48989186,\n",
       "       0.48713533])"
      ]
     },
     "execution_count": 150,
     "metadata": {},
     "output_type": "execute_result"
    },
    {
     "data": {
      "text/plain": [
       "Power_divergenceResult(statistic=921.4746847402405, pvalue=1.0)"
      ]
     },
     "execution_count": 150,
     "metadata": {},
     "output_type": "execute_result"
    },
    {
     "data": {
      "text/plain": [
       "Power_divergenceResult(statistic=894.6828501920148, pvalue=1.0)"
      ]
     },
     "execution_count": 150,
     "metadata": {},
     "output_type": "execute_result"
    }
   ],
   "source": [
    "\n",
    "prueba0 = sp.stats.chisquare(np.zeros_like(true_f) + 1. / true_f.size,r_hcv)\n",
    "prueba0\n",
    "prueba1 = sp.stats.chisquare(np.zeros_like(true_f) + 1. / true_f.size,r_hcv1)\n",
    "prueba1"
   ]
  },
  {
   "cell_type": "code",
   "execution_count": 172,
   "metadata": {},
   "outputs": [
    {
     "data": {
      "text/plain": [
       "(array([2.000e+00, 2.000e+00, 2.000e+00, 2.000e+00, 1.000e+00, 1.000e+00,\n",
       "        1.300e+01, 1.207e+03, 1.075e+03, 1.610e+02, 2.700e+01, 2.000e+00,\n",
       "        1.000e+00, 1.000e+00, 1.000e+00, 1.000e+00, 0.000e+00, 0.000e+00,\n",
       "        0.000e+00, 1.000e+00]),\n",
       " array([-5.10973003, -4.34585406, -3.58197809, -2.81810212, -2.05422615,\n",
       "        -1.29035018, -0.52647421,  0.23740176,  1.00127773,  1.76515369,\n",
       "         2.52902966,  3.29290563,  4.0567816 ,  4.82065757,  5.58453354,\n",
       "         6.34840951,  7.11228548,  7.87616145,  8.64003742,  9.40391339,\n",
       "        10.16778936]),\n",
       " <BarContainer object of 20 artists>)"
      ]
     },
     "execution_count": 172,
     "metadata": {},
     "output_type": "execute_result"
    },
    {
     "data": {
      "text/plain": [
       "count    2500.000000\n",
       "mean        1.062206\n",
       "std         0.627495\n",
       "min        -5.109730\n",
       "25%         0.661562\n",
       "50%         1.009256\n",
       "75%         1.379574\n",
       "max        10.167789\n",
       "Name: Y1, dtype: float64"
      ]
     },
     "execution_count": 172,
     "metadata": {},
     "output_type": "execute_result"
    },
    {
     "data": {
      "image/png": "[encoded data removed]",
      "text/plain": [
       "<Figure size 432x288 with 1 Axes>"
      ]
     },
     "metadata": {
      "needs_background": "light"
     },
     "output_type": "display_data"
    }
   ],
   "source": [
    "#r_hcv1L = r_hcv1[2499:4999]\n",
    "#Y_L = Y[2499:4999]\n",
    "r_hcv1L = r_hcv1[0:2500]\n",
    "Y_L = Y[0:2500]\n",
    "#plt.plot(Y_L,r_hcv1L)\n",
    "epsilonL = Y_L-r_hcv1L\n",
    "plt.hist(epsilonL,bins=20)\n",
    "pd.Series(epsilonL).describe()"
   ]
  },
  {
   "cell_type": "code",
   "execution_count": 180,
   "metadata": {},
   "outputs": [
    {
     "data": {
      "text/plain": [
       "(0.1210696901642669, 0.11787654025038381, 0.10017836281902308)"
      ]
     },
     "execution_count": 180,
     "metadata": {},
     "output_type": "execute_result"
    }
   ],
   "source": [
    "h1eps = statsmodels.nonparametric.bandwidths.bw_scott(epsilonL)\n",
    "h2eps = statsmodels.nonparametric.bandwidths.bw_silverman(epsilonL)\n",
    "\n",
    "(1.06*np.sqrt(np.var(epsilonL))*n**(-1/5), h1eps, h2eps)"
   ]
  },
  {
   "cell_type": "code",
   "execution_count": 182,
   "metadata": {},
   "outputs": [
    {
     "data": {
      "text/plain": [
       "GridSearchCV(cv=2, estimator=KernelDensity(),\n",
       "             param_grid={'bandwidth': array([ 0.01      ,  0.01072267,  0.01149757,  0.01232847,  0.01321941,\n",
       "        0.01417474,  0.01519911,  0.01629751,  0.01747528,  0.01873817,\n",
       "        0.02009233,  0.02154435,  0.0231013 ,  0.02477076,  0.02656088,\n",
       "        0.02848036,  0.03053856,  0.03274549,  0.03511192,  0.03764936,\n",
       "        0.04037017,  0.04328761,  0.04641589,  0.04977024,  0.05336699,\n",
       "        0.05722...\n",
       "        0.93260335,  1.        ,  1.07226722,  1.149757  ,  1.23284674,\n",
       "        1.32194115,  1.41747416,  1.51991108,  1.62975083,  1.7475284 ,\n",
       "        1.87381742,  2.009233  ,  2.15443469,  2.3101297 ,  2.47707636,\n",
       "        2.65608778,  2.84803587,  3.05385551,  3.27454916,  3.51119173,\n",
       "        3.76493581,  4.03701726,  4.32876128,  4.64158883,  4.97702356,\n",
       "        5.33669923,  5.72236766,  6.13590727,  6.57933225,  7.05480231,\n",
       "        7.56463328,  8.11130831,  8.69749003,  9.32603347, 10.        ])})"
      ]
     },
     "execution_count": 182,
     "metadata": {},
     "output_type": "execute_result"
    },
    {
     "data": {
      "text/plain": [
       "0.30538555088334157"
      ]
     },
     "execution_count": 182,
     "metadata": {},
     "output_type": "execute_result"
    }
   ],
   "source": [
    "bandwidths = 10 ** np.linspace(-2, 1, 100)\n",
    "GG = GridSearchCV(KernelDensity(kernel='gaussian'),\n",
    "                    {'bandwidth': bandwidths},\n",
    "                    cv= 2)\n",
    "GG.fit(epsilonL.to_numpy().reshape(-1,1))\n",
    "h_cv2eps = GG.best_params_[\"bandwidth\"]\n",
    "h_cv2eps"
   ]
  },
  {
   "cell_type": "code",
   "execution_count": 188,
   "metadata": {},
   "outputs": [
    {
     "data": {
      "text/plain": [
       "<matplotlib.legend.Legend at 0x7f1b33cb09d0>"
      ]
     },
     "execution_count": 188,
     "metadata": {},
     "output_type": "execute_result"
    },
    {
     "data": {
      "text/plain": [
       "Text(0.5, 0, 'X')"
      ]
     },
     "execution_count": 188,
     "metadata": {},
     "output_type": "execute_result"
    },
    {
     "data": {
      "text/plain": [
       "Text(0, 0.5, 'fonction densité')"
      ]
     },
     "execution_count": 188,
     "metadata": {},
     "output_type": "execute_result"
    },
    {
     "data": {
      "text/plain": [
       "Text(0.5, 1.0, 'Représentation de la densité')"
      ]
     },
     "execution_count": 188,
     "metadata": {},
     "output_type": "execute_result"
    },
    {
     "data": {
      "image/png": "[encoded data removed]",
      "text/plain": [
       "<Figure size 432x288 with 1 Axes>"
      ]
     },
     "metadata": {
      "needs_background": "light"
     },
     "output_type": "display_data"
    }
   ],
   "source": [
    "grid0 = np.linspace(-5.09,10.17,2500)\n",
    "g1, = plt.plot(grid0, f_hat(grid0, epsilonL, h1eps))\n",
    "g2, = plt.plot(grid0, f_hat(grid0, epsilonL, h2eps))\n",
    "#g3, = plt.plot(grid, f_hat(grid, X, h_cv))\n",
    "#g4, = plt.plot(grid, f_hat(grid, X, h_cv1))\n",
    "g5, = plt.plot(grid0, f_hat(grid0, epsilonL, h_cv2eps))\n",
    "#g5, = plt.plot(grid, true_f)\n",
    "\n",
    "plt.legend([g1, g2, g5], ['h = Scott', 'h = Silverman','h = CV'],\n",
    "              loc = 'upper right' , title = 'Légende')\n",
    "plt.xlabel('X')\n",
    "plt.ylabel('fonction densité')\n",
    "plt.title('Représentation de la densité')\n"
   ]
  },
  {
   "cell_type": "code",
   "execution_count": 189,
   "metadata": {},
   "outputs": [
    {
     "data": {
      "text/plain": [
       "(array([2.000e+00, 2.000e+00, 2.000e+00, 2.000e+00, 1.000e+00, 1.000e+00,\n",
       "        1.300e+01, 1.207e+03, 1.075e+03, 1.610e+02, 2.700e+01, 2.000e+00,\n",
       "        1.000e+00, 1.000e+00, 1.000e+00, 1.000e+00, 0.000e+00, 0.000e+00,\n",
       "        0.000e+00, 1.000e+00]),\n",
       " array([-5.10973003, -4.34585406, -3.58197809, -2.81810212, -2.05422615,\n",
       "        -1.29035018, -0.52647421,  0.23740176,  1.00127773,  1.76515369,\n",
       "         2.52902966,  3.29290563,  4.0567816 ,  4.82065757,  5.58453354,\n",
       "         6.34840951,  7.11228548,  7.87616145,  8.64003742,  9.40391339,\n",
       "        10.16778936]),\n",
       " <BarContainer object of 20 artists>)"
      ]
     },
     "execution_count": 189,
     "metadata": {},
     "output_type": "execute_result"
    },
    {
     "data": {
      "text/plain": [
       "count    2500.000000\n",
       "mean        1.062206\n",
       "std         0.627495\n",
       "min        -5.109730\n",
       "25%         0.661562\n",
       "50%         1.009256\n",
       "75%         1.379574\n",
       "max        10.167789\n",
       "Name: Y1, dtype: float64"
      ]
     },
     "execution_count": 189,
     "metadata": {},
     "output_type": "execute_result"
    },
    {
     "data": {
      "image/png": "[encoded data removed]",
      "text/plain": [
       "<Figure size 432x288 with 1 Axes>"
      ]
     },
     "metadata": {
      "needs_background": "light"
     },
     "output_type": "display_data"
    }
   ],
   "source": [
    "plt.hist(epsilonL,bins=20)\n",
    "pd.Series(epsilonL).describe()"
   ]
  },
  {
   "cell_type": "code",
   "execution_count": 196,
   "metadata": {},
   "outputs": [
    {
     "data": {
      "text/plain": [
       "((array([-3.45297476, -3.20602916, -3.06928934, ...,  3.06928934,\n",
       "          3.20602916,  3.45297476]),\n",
       "  array([-5.10973003, -4.95999558, -3.96625989, ...,  6.32963812,\n",
       "          7.0207768 , 10.16778936])),\n",
       " (0.5569168446880703, 1.062206098257546, 0.8866021540211507))"
      ]
     },
     "execution_count": 196,
     "metadata": {},
     "output_type": "execute_result"
    },
    {
     "data": {
      "image/png": "[encoded data removed]",
      "text/plain": [
       "<Figure size 432x288 with 1 Axes>"
      ]
     },
     "metadata": {
      "needs_background": "light"
     },
     "output_type": "display_data"
    }
   ],
   "source": [
    "st.probplot(epsilonL, dist=\"norm\", plot=pylab)\n",
    "pylab.show()"
   ]
  },
  {
   "cell_type": "code",
   "execution_count": 198,
   "metadata": {},
   "outputs": [
    {
     "data": {
      "text/plain": [
       "(0.7898110151290894, 0.0)"
      ]
     },
     "execution_count": 198,
     "metadata": {},
     "output_type": "execute_result"
    }
   ],
   "source": [
    "#test de normalité\n",
    "prueba_norm_eps = sp.stats.shapiro(epsilonL)\n",
    "prueba_norm_eps"
   ]
  },
  {
   "cell_type": "code",
   "execution_count": 200,
   "metadata": {},
   "outputs": [],
   "source": [
    "#regression avec poly locaux \n",
    "Kreg3 = KernelReg(epsilonL**2, X[0:2500], var_type = 'c' , reg_type = 'll', bw = 'cv_ls')\n",
    "h_cv3 = Kreg3.bw"
   ]
  },
  {
   "cell_type": "code",
   "execution_count": 202,
   "metadata": {},
   "outputs": [
    {
     "data": {
      "text/plain": [
       "[<matplotlib.lines.Line2D at 0x7f1b35427b80>]"
      ]
     },
     "execution_count": 202,
     "metadata": {},
     "output_type": "execute_result"
    },
    {
     "data": {
      "image/png": "[encoded data removed]",
      "text/plain": [
       "<Figure size 432x288 with 1 Axes>"
      ]
     },
     "metadata": {
      "needs_background": "light"
     },
     "output_type": "display_data"
    }
   ],
   "source": [
    "r_hcv3 = f_hat(grid0, X[0:2500], h_cv3)\n",
    "plt.plot(r_hcv3)# Ouais!!!"
   ]
  }
 ],
 "metadata": {
  "kernelspec": {
   "display_name": "Python 3",
   "language": "python",
   "name": "python3"
  },
  "language_info": {
   "codemirror_mode": {
    "name": "ipython",
    "version": 3
   },
   "file_extension": ".py",
   "mimetype": "text/x-python",
   "name": "python",
   "nbconvert_exporter": "python",
   "pygments_lexer": "ipython3",
   "version": "3.8.3"
  }
 },
 "nbformat": 4,
 "nbformat_minor": 4
}
